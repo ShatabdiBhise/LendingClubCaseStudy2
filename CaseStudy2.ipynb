{
 "cells": [
  {
   "cell_type": "code",
   "execution_count": 1,
   "id": "4a81bccd",
   "metadata": {},
   "outputs": [],
   "source": [
    "import pandas as pd\n",
    "import numpy as np\n",
    "import matplotlib.pyplot as plt"
   ]
  },
  {
   "cell_type": "code",
   "execution_count": 2,
   "id": "d673c928",
   "metadata": {},
   "outputs": [],
   "source": [
    "dataset = pd.read_csv('casestudy.csv')"
   ]
  },
  {
   "cell_type": "code",
   "execution_count": 3,
   "id": "aa427eb3",
   "metadata": {},
   "outputs": [
    {
     "data": {
      "text/html": [
       "<div>\n",
       "<style scoped>\n",
       "    .dataframe tbody tr th:only-of-type {\n",
       "        vertical-align: middle;\n",
       "    }\n",
       "\n",
       "    .dataframe tbody tr th {\n",
       "        vertical-align: top;\n",
       "    }\n",
       "\n",
       "    .dataframe thead th {\n",
       "        text-align: right;\n",
       "    }\n",
       "</style>\n",
       "<table border=\"1\" class=\"dataframe\">\n",
       "  <thead>\n",
       "    <tr style=\"text-align: right;\">\n",
       "      <th></th>\n",
       "      <th>Unnamed: 0</th>\n",
       "      <th>customer_email</th>\n",
       "      <th>net_revenue</th>\n",
       "      <th>year</th>\n",
       "    </tr>\n",
       "  </thead>\n",
       "  <tbody>\n",
       "    <tr>\n",
       "      <th>0</th>\n",
       "      <td>0</td>\n",
       "      <td>nhknapwsbx@gmail.com</td>\n",
       "      <td>249.92</td>\n",
       "      <td>2015</td>\n",
       "    </tr>\n",
       "    <tr>\n",
       "      <th>1</th>\n",
       "      <td>1</td>\n",
       "      <td>joiuzbvcpn@gmail.com</td>\n",
       "      <td>87.61</td>\n",
       "      <td>2015</td>\n",
       "    </tr>\n",
       "    <tr>\n",
       "      <th>2</th>\n",
       "      <td>2</td>\n",
       "      <td>ukkjctepxt@gmail.com</td>\n",
       "      <td>168.38</td>\n",
       "      <td>2015</td>\n",
       "    </tr>\n",
       "    <tr>\n",
       "      <th>3</th>\n",
       "      <td>3</td>\n",
       "      <td>gykatilzrt@gmail.com</td>\n",
       "      <td>62.40</td>\n",
       "      <td>2015</td>\n",
       "    </tr>\n",
       "    <tr>\n",
       "      <th>4</th>\n",
       "      <td>4</td>\n",
       "      <td>mmsgsrtxah@gmail.com</td>\n",
       "      <td>43.08</td>\n",
       "      <td>2015</td>\n",
       "    </tr>\n",
       "  </tbody>\n",
       "</table>\n",
       "</div>"
      ],
      "text/plain": [
       "   Unnamed: 0         customer_email  net_revenue  year\n",
       "0           0   nhknapwsbx@gmail.com       249.92  2015\n",
       "1           1   joiuzbvcpn@gmail.com        87.61  2015\n",
       "2           2   ukkjctepxt@gmail.com       168.38  2015\n",
       "3           3   gykatilzrt@gmail.com        62.40  2015\n",
       "4           4   mmsgsrtxah@gmail.com        43.08  2015"
      ]
     },
     "execution_count": 3,
     "metadata": {},
     "output_type": "execute_result"
    }
   ],
   "source": [
    "dataset.head()"
   ]
  },
  {
   "cell_type": "code",
   "execution_count": 4,
   "id": "360f4a08",
   "metadata": {},
   "outputs": [
    {
     "data": {
      "text/plain": [
       "Unnamed: 0          int64\n",
       "customer_email     object\n",
       "net_revenue       float64\n",
       "year                int64\n",
       "dtype: object"
      ]
     },
     "execution_count": 4,
     "metadata": {},
     "output_type": "execute_result"
    }
   ],
   "source": [
    "dataset.dtypes"
   ]
  },
  {
   "cell_type": "code",
   "execution_count": 5,
   "id": "9a6dcbe7",
   "metadata": {},
   "outputs": [
    {
     "data": {
      "text/plain": [
       "Unnamed: 0        False\n",
       "customer_email    False\n",
       "net_revenue       False\n",
       "year              False\n",
       "dtype: bool"
      ]
     },
     "execution_count": 5,
     "metadata": {},
     "output_type": "execute_result"
    }
   ],
   "source": [
    "#checking for null values\n",
    "dataset.isnull().any()"
   ]
  },
  {
   "cell_type": "code",
   "execution_count": 6,
   "id": "0c15521e",
   "metadata": {},
   "outputs": [
    {
     "data": {
      "text/plain": [
       "685927"
      ]
     },
     "execution_count": 6,
     "metadata": {},
     "output_type": "execute_result"
    }
   ],
   "source": [
    "#number of records in the dataset\n",
    "len(dataset)"
   ]
  },
  {
   "cell_type": "code",
   "execution_count": 7,
   "id": "29d55b59",
   "metadata": {},
   "outputs": [
    {
     "data": {
      "text/plain": [
       "array([2015, 2016, 2017])"
      ]
     },
     "execution_count": 7,
     "metadata": {},
     "output_type": "execute_result"
    }
   ],
   "source": [
    "#get the unique number of years \n",
    "np.unique(dataset['year'])"
   ]
  },
  {
   "cell_type": "code",
   "execution_count": 8,
   "id": "7c088146",
   "metadata": {},
   "outputs": [],
   "source": [
    "current_year = 2017\n",
    "previous_year = 2016"
   ]
  },
  {
   "cell_type": "markdown",
   "id": "f032c8d4",
   "metadata": {},
   "source": [
    "# Total renvenue of the current year"
   ]
  },
  {
   "cell_type": "code",
   "execution_count": 9,
   "id": "4e69ca8a",
   "metadata": {},
   "outputs": [
    {
     "data": {
      "text/plain": [
       "31417495.030000016"
      ]
     },
     "execution_count": 9,
     "metadata": {},
     "output_type": "execute_result"
    }
   ],
   "source": [
    "total_revenue_curr_year = dataset.loc[dataset['year']==current_year, 'net_revenue'].sum()\n",
    "total_revenue_curr_year"
   ]
  },
  {
   "cell_type": "markdown",
   "id": "f857b399",
   "metadata": {},
   "source": [
    "# New Customer Revenue"
   ]
  },
  {
   "cell_type": "code",
   "execution_count": 10,
   "id": "7f70b707",
   "metadata": {},
   "outputs": [],
   "source": [
    "#new customer revenue can be calculated by first getting a df for the new customers and then summing up \n",
    "#the net revenue\n",
    "\n",
    "curr_year_customers_df = dataset.loc[dataset['year']==current_year]\n",
    "prev_year_customers_df = dataset.loc[dataset['year']==previous_year]"
   ]
  },
  {
   "cell_type": "code",
   "execution_count": 11,
   "id": "bc928479",
   "metadata": {},
   "outputs": [
    {
     "data": {
      "text/plain": [
       "249987"
      ]
     },
     "execution_count": 11,
     "metadata": {},
     "output_type": "execute_result"
    }
   ],
   "source": [
    "len(curr_year_customers_df)"
   ]
  },
  {
   "cell_type": "code",
   "execution_count": 12,
   "id": "58936da0",
   "metadata": {},
   "outputs": [
    {
     "data": {
      "text/plain": [
       "204646"
      ]
     },
     "execution_count": 12,
     "metadata": {},
     "output_type": "execute_result"
    }
   ],
   "source": [
    "len(prev_year_customers_df)"
   ]
  },
  {
   "cell_type": "code",
   "execution_count": 13,
   "id": "b00c359f",
   "metadata": {},
   "outputs": [
    {
     "data": {
      "text/plain": [
       "229028"
      ]
     },
     "execution_count": 13,
     "metadata": {},
     "output_type": "execute_result"
    }
   ],
   "source": [
    "#there are total 229,028 new customers \n",
    "\n",
    "new_customer_df = curr_year_customers_df[~curr_year_customers_df['customer_email'].isin(prev_year_customers_df['customer_email'])]\n",
    "len(new_customer_df)"
   ]
  },
  {
   "cell_type": "code",
   "execution_count": 14,
   "id": "b9dcccf5",
   "metadata": {},
   "outputs": [
    {
     "data": {
      "text/plain": [
       "28776235.039999995"
      ]
     },
     "execution_count": 14,
     "metadata": {},
     "output_type": "execute_result"
    }
   ],
   "source": [
    "total_new_customer_revenue = new_customer_df['net_revenue'].sum()\n",
    "total_new_customer_revenue"
   ]
  },
  {
   "cell_type": "markdown",
   "id": "b6054666",
   "metadata": {},
   "source": [
    "# Existing Customer Growth"
   ]
  },
  {
   "cell_type": "code",
   "execution_count": 15,
   "id": "b2dfa6ff",
   "metadata": {},
   "outputs": [],
   "source": [
    "#getting dfs for existing customers for current year and existing customers of previous years and then taking\n",
    "# the difference of the summed up net revenue\n",
    "\n",
    "curr_existing_df = curr_year_customers_df[curr_year_customers_df['customer_email'].isin(prev_year_customers_df['customer_email'])] \n",
    "previous_existing_df =  prev_year_customers_df[prev_year_customers_df['customer_email'].isin(curr_year_customers_df['customer_email'])]"
   ]
  },
  {
   "cell_type": "code",
   "execution_count": 16,
   "id": "235bb454",
   "metadata": {},
   "outputs": [
    {
     "data": {
      "text/plain": [
       "20611.340000000317"
      ]
     },
     "execution_count": 16,
     "metadata": {},
     "output_type": "execute_result"
    }
   ],
   "source": [
    "existing_customer_growth = curr_existing_df['net_revenue'].sum() -  previous_existing_df['net_revenue'].sum()\n",
    "existing_customer_growth"
   ]
  },
  {
   "cell_type": "markdown",
   "id": "89844663",
   "metadata": {},
   "source": [
    "# Revenue lost from Attrition"
   ]
  },
  {
   "cell_type": "code",
   "execution_count": 17,
   "id": "33188ad8",
   "metadata": {},
   "outputs": [
    {
     "data": {
      "text/plain": [
       "183687"
      ]
     },
     "execution_count": 17,
     "metadata": {},
     "output_type": "execute_result"
    }
   ],
   "source": [
    "#there are 183,687 customers who left (were there in 2016 but not in 2017)\n",
    "\n",
    "customers_who_left_df = prev_year_customers_df[~prev_year_customers_df['customer_email'].isin(curr_year_customers_df['customer_email'])]\n",
    "len(customers_who_left_df)"
   ]
  },
  {
   "cell_type": "code",
   "execution_count": 18,
   "id": "f50e8782",
   "metadata": {},
   "outputs": [
    {
     "data": {
      "text/plain": [
       "23110294.939999998"
      ]
     },
     "execution_count": 18,
     "metadata": {},
     "output_type": "execute_result"
    }
   ],
   "source": [
    "revenue_lost_from_attrition = customers_who_left_df['net_revenue'].sum()\n",
    "revenue_lost_from_attrition"
   ]
  },
  {
   "cell_type": "markdown",
   "id": "6bf92b0a",
   "metadata": {},
   "source": [
    "# Existing customer Revenue current year"
   ]
  },
  {
   "cell_type": "code",
   "execution_count": 19,
   "id": "51c604c0",
   "metadata": {},
   "outputs": [
    {
     "data": {
      "text/plain": [
       "2641259.99"
      ]
     },
     "execution_count": 19,
     "metadata": {},
     "output_type": "execute_result"
    }
   ],
   "source": [
    "curr_existing_revenue = curr_existing_df['net_revenue'].sum()\n",
    "curr_existing_revenue"
   ]
  },
  {
   "cell_type": "markdown",
   "id": "91a1816b",
   "metadata": {},
   "source": [
    "# Existing Customer Revenue Prior Year"
   ]
  },
  {
   "cell_type": "code",
   "execution_count": 20,
   "id": "ef75ec8a",
   "metadata": {},
   "outputs": [
    {
     "data": {
      "text/plain": [
       "2620648.65"
      ]
     },
     "execution_count": 20,
     "metadata": {},
     "output_type": "execute_result"
    }
   ],
   "source": [
    "prev_existing_revenue = previous_existing_df['net_revenue'].sum()\n",
    "prev_existing_revenue"
   ]
  },
  {
   "cell_type": "markdown",
   "id": "53740ff1",
   "metadata": {},
   "source": [
    "# Total Customers current year"
   ]
  },
  {
   "cell_type": "code",
   "execution_count": 21,
   "id": "38aba24f",
   "metadata": {},
   "outputs": [
    {
     "data": {
      "text/plain": [
       "249987"
      ]
     },
     "execution_count": 21,
     "metadata": {},
     "output_type": "execute_result"
    }
   ],
   "source": [
    "total_customers_curr = len(curr_year_customers_df['customer_email'])\n",
    "total_customers_curr"
   ]
  },
  {
   "cell_type": "markdown",
   "id": "f8366a11",
   "metadata": {},
   "source": [
    "# Total Customers Previous year"
   ]
  },
  {
   "cell_type": "code",
   "execution_count": 22,
   "id": "9badf8cb",
   "metadata": {},
   "outputs": [
    {
     "data": {
      "text/plain": [
       "204646"
      ]
     },
     "execution_count": 22,
     "metadata": {},
     "output_type": "execute_result"
    }
   ],
   "source": [
    "total_customers_prev = len(prev_year_customers_df['customer_email'])\n",
    "total_customers_prev"
   ]
  },
  {
   "cell_type": "markdown",
   "id": "cec1e2ab",
   "metadata": {},
   "source": [
    "# New customers"
   ]
  },
  {
   "cell_type": "code",
   "execution_count": 23,
   "id": "8c8565c3",
   "metadata": {
    "scrolled": true
   },
   "outputs": [
    {
     "data": {
      "text/html": [
       "<div>\n",
       "<style scoped>\n",
       "    .dataframe tbody tr th:only-of-type {\n",
       "        vertical-align: middle;\n",
       "    }\n",
       "\n",
       "    .dataframe tbody tr th {\n",
       "        vertical-align: top;\n",
       "    }\n",
       "\n",
       "    .dataframe thead th {\n",
       "        text-align: right;\n",
       "    }\n",
       "</style>\n",
       "<table border=\"1\" class=\"dataframe\">\n",
       "  <thead>\n",
       "    <tr style=\"text-align: right;\">\n",
       "      <th></th>\n",
       "      <th>Unnamed: 0</th>\n",
       "      <th>customer_email</th>\n",
       "      <th>net_revenue</th>\n",
       "      <th>year</th>\n",
       "    </tr>\n",
       "  </thead>\n",
       "  <tbody>\n",
       "    <tr>\n",
       "      <th>435940</th>\n",
       "      <td>435940</td>\n",
       "      <td>mwrossuukz@gmail.com</td>\n",
       "      <td>96.61</td>\n",
       "      <td>2017</td>\n",
       "    </tr>\n",
       "    <tr>\n",
       "      <th>435941</th>\n",
       "      <td>435941</td>\n",
       "      <td>qvjfterwnk@gmail.com</td>\n",
       "      <td>176.00</td>\n",
       "      <td>2017</td>\n",
       "    </tr>\n",
       "    <tr>\n",
       "      <th>435942</th>\n",
       "      <td>435942</td>\n",
       "      <td>vlyigtgfzs@gmail.com</td>\n",
       "      <td>73.47</td>\n",
       "      <td>2017</td>\n",
       "    </tr>\n",
       "    <tr>\n",
       "      <th>435943</th>\n",
       "      <td>435943</td>\n",
       "      <td>yfirychuhk@gmail.com</td>\n",
       "      <td>138.17</td>\n",
       "      <td>2017</td>\n",
       "    </tr>\n",
       "    <tr>\n",
       "      <th>435944</th>\n",
       "      <td>435944</td>\n",
       "      <td>fdkiioqtli@gmail.com</td>\n",
       "      <td>156.87</td>\n",
       "      <td>2017</td>\n",
       "    </tr>\n",
       "  </tbody>\n",
       "</table>\n",
       "</div>"
      ],
      "text/plain": [
       "        Unnamed: 0         customer_email  net_revenue  year\n",
       "435940      435940   mwrossuukz@gmail.com        96.61  2017\n",
       "435941      435941  qvjfterwnk@gmail.com        176.00  2017\n",
       "435942      435942   vlyigtgfzs@gmail.com        73.47  2017\n",
       "435943      435943   yfirychuhk@gmail.com       138.17  2017\n",
       "435944      435944   fdkiioqtli@gmail.com       156.87  2017"
      ]
     },
     "execution_count": 23,
     "metadata": {},
     "output_type": "execute_result"
    }
   ],
   "source": [
    "new_customers_df = curr_year_customers_df[~curr_year_customers_df['customer_email'].isin(prev_year_customers_df['customer_email'])]\n",
    "new_customers_df.head()"
   ]
  },
  {
   "cell_type": "code",
   "execution_count": 24,
   "id": "026136ba",
   "metadata": {},
   "outputs": [
    {
     "data": {
      "text/plain": [
       "229028"
      ]
     },
     "execution_count": 24,
     "metadata": {},
     "output_type": "execute_result"
    }
   ],
   "source": [
    "len(new_customers_df)"
   ]
  },
  {
   "cell_type": "markdown",
   "id": "58431437",
   "metadata": {},
   "source": [
    "# Lost Customers"
   ]
  },
  {
   "cell_type": "code",
   "execution_count": 25,
   "id": "d601b424",
   "metadata": {},
   "outputs": [
    {
     "data": {
      "text/html": [
       "<div>\n",
       "<style scoped>\n",
       "    .dataframe tbody tr th:only-of-type {\n",
       "        vertical-align: middle;\n",
       "    }\n",
       "\n",
       "    .dataframe tbody tr th {\n",
       "        vertical-align: top;\n",
       "    }\n",
       "\n",
       "    .dataframe thead th {\n",
       "        text-align: right;\n",
       "    }\n",
       "</style>\n",
       "<table border=\"1\" class=\"dataframe\">\n",
       "  <thead>\n",
       "    <tr style=\"text-align: right;\">\n",
       "      <th></th>\n",
       "      <th>Unnamed: 0</th>\n",
       "      <th>customer_email</th>\n",
       "      <th>net_revenue</th>\n",
       "      <th>year</th>\n",
       "    </tr>\n",
       "  </thead>\n",
       "  <tbody>\n",
       "    <tr>\n",
       "      <th>231294</th>\n",
       "      <td>231294</td>\n",
       "      <td>mwrossuukz@gmail.com</td>\n",
       "      <td>197.26</td>\n",
       "      <td>2016</td>\n",
       "    </tr>\n",
       "    <tr>\n",
       "      <th>231295</th>\n",
       "      <td>231295</td>\n",
       "      <td>gkwsoupawk@gmail.com</td>\n",
       "      <td>38.28</td>\n",
       "      <td>2016</td>\n",
       "    </tr>\n",
       "    <tr>\n",
       "      <th>231296</th>\n",
       "      <td>231296</td>\n",
       "      <td>vlyigtgfzs@gmail.com</td>\n",
       "      <td>154.57</td>\n",
       "      <td>2016</td>\n",
       "    </tr>\n",
       "    <tr>\n",
       "      <th>231297</th>\n",
       "      <td>231297</td>\n",
       "      <td>yfirychuhk@gmail.com</td>\n",
       "      <td>102.47</td>\n",
       "      <td>2016</td>\n",
       "    </tr>\n",
       "    <tr>\n",
       "      <th>231298</th>\n",
       "      <td>231298</td>\n",
       "      <td>trnzgqinuu@gmail.com</td>\n",
       "      <td>32.03</td>\n",
       "      <td>2016</td>\n",
       "    </tr>\n",
       "  </tbody>\n",
       "</table>\n",
       "</div>"
      ],
      "text/plain": [
       "        Unnamed: 0         customer_email  net_revenue  year\n",
       "231294      231294   mwrossuukz@gmail.com       197.26  2016\n",
       "231295      231295   gkwsoupawk@gmail.com        38.28  2016\n",
       "231296      231296   vlyigtgfzs@gmail.com       154.57  2016\n",
       "231297      231297   yfirychuhk@gmail.com       102.47  2016\n",
       "231298      231298   trnzgqinuu@gmail.com        32.03  2016"
      ]
     },
     "execution_count": 25,
     "metadata": {},
     "output_type": "execute_result"
    }
   ],
   "source": [
    "lost_customers_df = prev_year_customers_df[~prev_year_customers_df['customer_email'].isin(curr_year_customers_df['customer_email'])]\n",
    "lost_customers_df.head()"
   ]
  },
  {
   "cell_type": "code",
   "execution_count": 26,
   "id": "712f1cc3",
   "metadata": {},
   "outputs": [
    {
     "data": {
      "text/plain": [
       "183687"
      ]
     },
     "execution_count": 26,
     "metadata": {},
     "output_type": "execute_result"
    }
   ],
   "source": [
    "len(lost_customers_df)"
   ]
  },
  {
   "cell_type": "markdown",
   "id": "19fcf6d0",
   "metadata": {},
   "source": [
    "# Visualizations"
   ]
  },
  {
   "cell_type": "markdown",
   "id": "a88d9db2",
   "metadata": {},
   "source": [
    "### I) Revenue generated per year"
   ]
  },
  {
   "cell_type": "code",
   "execution_count": 49,
   "id": "87e3c156",
   "metadata": {},
   "outputs": [],
   "source": [
    "prevprev_year_customers_df = dataset.loc[dataset['year']==2015]\n",
    "year1 = prevprev_year_customers_df['net_revenue'].sum()\n",
    "\n",
    "#year1 = dataset.loc[dataset['year']==2015, 'net_revenue'].sum()\n",
    "\n",
    "year2 = prev_year_customers_df['net_revenue'].sum()\n",
    "\n",
    "year3 = curr_year_customers_df['net_revenue'].sum()\n"
   ]
  },
  {
   "cell_type": "code",
   "execution_count": 40,
   "id": "f6534d26",
   "metadata": {},
   "outputs": [
    {
     "data": {
      "text/plain": [
       "[29036749.189999994, 25730943.59, 31417495.030000016]"
      ]
     },
     "execution_count": 40,
     "metadata": {},
     "output_type": "execute_result"
    }
   ],
   "source": [
    "years = ['2015', '2016', '2017']\n",
    "revenue = []\n",
    "revenue.append(year1)\n",
    "revenue.append(year2)\n",
    "revenue.append(year3)\n",
    "\n",
    "revenue"
   ]
  },
  {
   "cell_type": "code",
   "execution_count": 88,
   "id": "6bca21b9",
   "metadata": {},
   "outputs": [
    {
     "data": {
      "image/png": "[encoded data removed]",
      "text/plain": [
       "<Figure size 432x288 with 1 Axes>"
      ]
     },
     "metadata": {
      "needs_background": "light"
     },
     "output_type": "display_data"
    }
   ],
   "source": [
    "plt.plot(years, revenue)\n",
    " \n",
    "plt.xlabel('Years')\n",
    "plt.ylabel('Revenue generated')\n",
    "plt.ylim([25000000, 35000000])\n",
    "plt.title('Revenue generated per year')\n",
    " \n",
    "plt.show()"
   ]
  },
  {
   "cell_type": "code",
   "execution_count": 44,
   "id": "cd3055db",
   "metadata": {},
   "outputs": [
    {
     "data": {
      "text/plain": [
       "[125.54043420927475, 125.73391901136597, 125.67651529879561]"
      ]
     },
     "execution_count": 44,
     "metadata": {},
     "output_type": "execute_result"
    }
   ],
   "source": [
    "avgyear1 = year1/len(prevprev_year_customers_df['customer_email'])\n",
    "avgyear2 = year2/len(prev_year_customers_df['customer_email'])\n",
    "avgyear3 = year3/len(curr_year_customers_df['customer_email'])\n",
    "\n",
    "avg_revenue = []\n",
    "avg_revenue.append(avgyear1)\n",
    "avg_revenue.append(avgyear2)\n",
    "avg_revenue.append(avgyear3)\n",
    "\n",
    "avg_revenue"
   ]
  },
  {
   "cell_type": "markdown",
   "id": "54f7b546",
   "metadata": {},
   "source": [
    "##### Observation 1\n",
    "##### It seems like the total revenue generated by the retailer had dropped in the year 2016 but it increased significantly in the year 2017. The average revenue generated is similar among all the three years. That means that this drop in 2016 or increase in 2017 was not because of the number of customers."
   ]
  },
  {
   "cell_type": "markdown",
   "id": "f38eec9b",
   "metadata": {},
   "source": [
    "### II) Total customers per year"
   ]
  },
  {
   "cell_type": "code",
   "execution_count": 54,
   "id": "f6e08077",
   "metadata": {},
   "outputs": [],
   "source": [
    "total_customers_curr\n",
    "total_customers_prev\n",
    "total_customers_prevprev = len(prevprev_year_customers_df['customer_email'])\n",
    "\n",
    "customers = []\n",
    "customers.append(total_customers_curr)\n",
    "customers.append(total_customers_prev)\n",
    "customers.append(total_customers_prevprev)"
   ]
  },
  {
   "cell_type": "code",
   "execution_count": 83,
   "id": "9cc8e60a",
   "metadata": {},
   "outputs": [
    {
     "data": {
      "image/png": "[encoded data removed]",
      "text/plain": [
       "<Figure size 720x360 with 1 Axes>"
      ]
     },
     "metadata": {
      "needs_background": "light"
     },
     "output_type": "display_data"
    }
   ],
   "source": [
    "fig = plt.figure(figsize = (10, 5))\n",
    " \n",
    "# creating the bar plot\n",
    "plt.bar(years, customers, color ='orange',\n",
    "        width = 0.4)\n",
    " \n",
    "plt.xlabel(\"Year\")\n",
    "plt.ylabel(\"No. of customers\")\n",
    "plt.title(\"Total customers per year\")\n",
    "plt.show()"
   ]
  },
  {
   "cell_type": "markdown",
   "id": "a9b096d6",
   "metadata": {},
   "source": [
    "##### Observation 2:\n",
    "##### The company seems to have the minimum number of customers in the year 2016. This might be because a lot of customers from 2015 might have left the company and there were very few new customers. Let's find out if this is the case from the graph below."
   ]
  },
  {
   "cell_type": "markdown",
   "id": "4f1fba6d",
   "metadata": {},
   "source": [
    "### III) Why exactly did 2016 have less customers?"
   ]
  },
  {
   "cell_type": "code",
   "execution_count": 65,
   "id": "798f0203",
   "metadata": {},
   "outputs": [
    {
     "data": {
      "text/plain": [
       "[229028, 145062]"
      ]
     },
     "execution_count": 65,
     "metadata": {},
     "output_type": "execute_result"
    }
   ],
   "source": [
    "new_customers_curr_df = curr_year_customers_df[~curr_year_customers_df['customer_email'].isin(prev_year_customers_df['customer_email'])]\n",
    "new_customers_prev_df = prev_year_customers_df[~prev_year_customers_df['customer_email'].isin(prevprev_year_customers_df['customer_email'])]\n",
    "\n",
    "new_customers = []\n",
    "new_customers.append(len(new_customers_curr_df))\n",
    "new_customers.append(len(new_customers_prev_df))\n",
    "new_customers"
   ]
  },
  {
   "cell_type": "code",
   "execution_count": 66,
   "id": "bcf952d7",
   "metadata": {},
   "outputs": [
    {
     "data": {
      "text/plain": [
       "[183687, 171710]"
      ]
     },
     "execution_count": 66,
     "metadata": {},
     "output_type": "execute_result"
    }
   ],
   "source": [
    "lost_customers_curr_df = prev_year_customers_df[~prev_year_customers_df['customer_email'].isin(curr_year_customers_df['customer_email'])]\n",
    "lost_customers_prev_df = prevprev_year_customers_df[~prevprev_year_customers_df['customer_email'].isin(prev_year_customers_df['customer_email'])]\n",
    "\n",
    "lost_customers = []\n",
    "lost_customers.append(len(lost_customers_curr_df))\n",
    "lost_customers.append(len(lost_customers_prev_df))\n",
    "lost_customers"
   ]
  },
  {
   "cell_type": "code",
   "execution_count": 67,
   "id": "366a82a4",
   "metadata": {},
   "outputs": [
    {
     "data": {
      "text/plain": [
       "[249987, 204646, 231294]"
      ]
     },
     "execution_count": 67,
     "metadata": {},
     "output_type": "execute_result"
    }
   ],
   "source": [
    "#total customers\n",
    "customers"
   ]
  },
  {
   "cell_type": "code",
   "execution_count": 69,
   "id": "0affe23c",
   "metadata": {},
   "outputs": [],
   "source": [
    "years1 = ['2017', '2016']"
   ]
  },
  {
   "cell_type": "code",
   "execution_count": 78,
   "id": "2947fe01",
   "metadata": {},
   "outputs": [
    {
     "data": {
      "image/png": "[encoded data removed]",
      "text/plain": [
       "<Figure size 432x288 with 1 Axes>"
      ]
     },
     "metadata": {
      "needs_background": "light"
     },
     "output_type": "display_data"
    }
   ],
   "source": [
    "X_axis = np.arange(len(years1))\n",
    "  \n",
    "plt.bar(X_axis - 0.2, new_customers, 0.4, label = 'New Customers', color='orange')\n",
    "plt.bar(X_axis + 0.2, lost_customers, 0.4, label = 'Lost Customers', color='grey')\n",
    "  \n",
    "plt.xticks(X_axis, years1)\n",
    "plt.xlabel(\"Year\")\n",
    "plt.ylabel(\"Number of Customers\")\n",
    "plt.title(\"Number of new and lost customers per year\")\n",
    "plt.legend()\n",
    "plt.show()"
   ]
  },
  {
   "cell_type": "markdown",
   "id": "0e5430b1",
   "metadata": {},
   "source": [
    "##### Observation 3:\n",
    "##### As we can see from the graph, the number of customers who left the company in 2016 were in fact more than the new customers who joined the company. As we can see, even though number of customers who left the company is similar for 2016 and 2017, the number of new customers joining the company in 2017 was way more.\n",
    "##### Maybe 2016 was just a rough year for the company in regards to the total revenue and customers, but we can't say this for sure with the limited number of years for which the data is  provided."
   ]
  },
  {
   "cell_type": "code",
   "execution_count": null,
   "id": "356ebb1f",
   "metadata": {},
   "outputs": [],
   "source": []
  }
 ],
 "metadata": {
  "kernelspec": {
   "display_name": "Python 3",
   "language": "python",
   "name": "python3"
  },
  "language_info": {
   "codemirror_mode": {
    "name": "ipython",
    "version": 3
   },
   "file_extension": ".py",
   "mimetype": "text/x-python",
   "name": "python",
   "nbconvert_exporter": "python",
   "pygments_lexer": "ipython3",
   "version": "3.8.8"
  }
 },
 "nbformat": 4,
 "nbformat_minor": 5
}
